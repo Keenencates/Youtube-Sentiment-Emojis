{
 "cells": [
  {
   "cell_type": "markdown",
   "metadata": {
    "deletable": true,
    "editable": true
   },
   "source": [
    "# EDA for Youtube Comments\n",
    "Calvin Dailey, Keenen Cates, Zeyu Zhang"
   ]
  },
  {
   "cell_type": "code",
   "execution_count": 18,
   "metadata": {
    "collapsed": false,
    "deletable": true,
    "editable": true
   },
   "outputs": [],
   "source": [
    "import numpy as np\n",
    "import pandas as pd\n",
    "from requests import get\n",
    "from os import path\n",
    "from io import BytesIO\n",
    "from zipfile import ZipFile\n",
    "from emoji_list import all_emoji\n",
    "from time import strftime\n",
    "from urllib.request import urlopen \n",
    "from collections import Counter\n",
    "from string import punctuation\n",
    "\n",
    "excluded = ['1','2','3','4', \n",
    "            '5','6','7','8', \n",
    "            '9','0','#','*']\n",
    "emojis = [e for e in all_emoji if e not in excluded]\n",
    "\n",
    "today = strftime('%x').replace('/', '_')\n",
    "\n",
    "data_url = 'https://www.kaggle.com/datasnaek/youtube/downloads/youtube.zip'\n",
    "root_dir = '.'\n",
    "data_root = path.join(root_dir, 'data')\n",
    "data_path = path.join(data_root, 'data_' + today + '/')\n",
    "test_data = path.join(data_root, 'data_10_03_17')"
   ]
  },
  {
   "cell_type": "code",
   "execution_count": 2,
   "metadata": {
    "collapsed": false,
    "deletable": true,
    "editable": true
   },
   "outputs": [],
   "source": [
    "def download_and_extract_youtube_files():\n",
    "    zipper = ZipFile(BytesIO(urlopen(data_url)))\n",
    "    zipper.extractall(data_path)"
   ]
  },
  {
   "cell_type": "code",
   "execution_count": 10,
   "metadata": {
    "collapsed": false,
    "deletable": true,
    "editable": true
   },
   "outputs": [
    {
     "name": "stderr",
     "output_type": "stream",
     "text": [
      "b'Skipping line 41589: expected 4 fields, saw 11\\nSkipping line 51628: expected 4 fields, saw 7\\nSkipping line 114465: expected 4 fields, saw 5\\n'\n",
      "b'Skipping line 142496: expected 4 fields, saw 8\\nSkipping line 189732: expected 4 fields, saw 6\\nSkipping line 245218: expected 4 fields, saw 7\\n'\n",
      "/usr/local/lib/python3.5/dist-packages/IPython/core/interactiveshell.py:2821: DtypeWarning: Columns (2,3) have mixed types. Specify dtype option on import or set low_memory=False.\n",
      "  if self.run_code(code, result):\n"
     ]
    },
    {
     "name": "stdout",
     "output_type": "stream",
     "text": [
      "The unique words are:  155563\n",
      "[('the', 200114), ('i', 134169), ('a', 116415), ('to', 115947), ('and', 107542), ('', 105545), ('you', 92741), ('is', 91158), ('this', 75285), ('of', 74897)]\n"
     ]
    }
   ],
   "source": [
    "def get_comments(path):\n",
    "    df = pd.read_csv(path + '/UScomments.csv', error_bad_lines=False)\n",
    "    comments = df['comment_text']\n",
    "    \n",
    "    words = Counter()\n",
    "    for each in comments:\n",
    "        words.update(''.join([c for c in str(each).lower() if c not in punctuation]).split(' '))\n",
    "        \n",
    "    print('The unique words are: ', len(words))\n",
    "    print(words.most_common(10))\n",
    "    return comments\n",
    "\n",
    "comments = get_comments(test_data)"
   ]
  },
  {
   "cell_type": "code",
   "execution_count": 14,
   "metadata": {
    "collapsed": false,
    "deletable": true,
    "editable": true
   },
   "outputs": [],
   "source": [
    "def split_emoji_data(threshold=len(comments)):\n",
    "    has_emoji = lambda s: any((True for x in [c for c in str(s)] if x in emojis))\n",
    "    \n",
    "    emoji_comments = []\n",
    "    no_emoji_comments = []\n",
    "    for each in comments[:threshold]:\n",
    "        if has_emoji(each):\n",
    "            emoji_comments.append(each)\n",
    "        else:\n",
    "            no_emoji_comments.append(each)\n",
    "            \n",
    "    return emoji_comments, no_emoji_comments\n",
    "\n",
    "emoji_comments, no_emoji_comments = split_emoji_data()"
   ]
  },
  {
   "cell_type": "code",
   "execution_count": 15,
   "metadata": {
    "collapsed": false
   },
   "outputs": [
    {
     "data": {
      "text/plain": [
       "[\"Logan Paul it's yo big day ‼️‼️‼️\",\n",
       " 'trending 😉',\n",
       " 'The end though 😭👍🏻❤️',\n",
       " 'I love Logan and Jake so much and thay are so amazing and I look up to them so much 😍💋💙👍',\n",
       " \"👈 watch by clicking here you can see people's are entertaining\",\n",
       " 'Evan is being a douch Logans getting pissed, Logan should have went to smash his game system then evan would have cried 😂 & Evans not gonna be able to take care of a pitbull tell his ass no, its gonna kill kong !!!',\n",
       " \"When I saw this vid at first I was like naaahhhhh to tired but I looked at it again and saw the title and I was like H🔥LLLLLLZZZZ YEEEAAAHHHH and as a anniversary present Logan Paul I'm gonna b u for Halloween to show how much u hav changed ma life and I'm not even joking about it 😂😂😂\",\n",
       " 'The girl with the dog was kylie Jenner 😂',\n",
       " 'Attack of titan squad were u at👻❤️😂',\n",
       " 'Congrats Logan love u so much someday I would love to meet u #1 fan of the logang ❤️',\n",
       " 'Me and my friends subscribe AAAAAAAAAAAA you got the Diamond Play button 💎😆😆😆😆😆😆😁😁😁😁😁😁😁',\n",
       " '😂😂😂😂😭 I love Evan so much!!!',\n",
       " \"I forgot that pewdiepie's fandom is a majority white people 😒.\\\\n IF 👏 YOU'RE 👏 WHITE 👏 DONT 👏 TELL 👏 POC 👏 HOW 👏 THEY 👏 SHOULD 👏 FEEL 👏. Our ancestors paid for that word with their own blood, so poc today can use it how ever we want. You cannot tell us how we should feel. Y'all are disgusting for backing up your problematic fave and I'm pretty sure he did this before. Pewdiepie is canceled.\",\n",
       " \"What the hell is wrong with everyone who's talking badly about him he said the word by accident it's ok pewdiepie you're super cool we all love you the people who are here and supporting you😊❤️\",\n",
       " \"👈 watch by clicking here people's are entertaining\",\n",
       " \"Saying Nigga isn't even bad it's only bad if you say it in a hateful way to black people ALL THE CRY BABIES and immature people stop going at him I guarantee youse you wouldn't say it to idubbz or others but because it's pewdiepie you think you have the right to go full force at him Yet I can see were people are coming from because pewdiepie did start the biggest ad crisis on any platform ever he has to much pressure on  him that's my speech down 😂😂 btw I do like idubbz it was just an example\",\n",
       " \"It's okay man👌👌\",\n",
       " '🤔how will girls unlock their iphone X after taking off their makeup?',\n",
       " \"👈 watch by clicking on icon people's are entertaining\",\n",
       " 'techrax is gonna be so happy 😂😂😁',\n",
       " \"just wait ... I'll sell my kidney n bay it .💔😂\",\n",
       " 'It looks like glass iPhone,,, that effect is not for me,,, 👎👎👎👎👎🍎 death',\n",
       " 'Im gonna buy it just because im gonna get better snap chat filters smh 😤',\n",
       " 'wow tf copy samsung much 😂',\n",
       " 'THIS IS SO TRUE OMG 😂😂😂',\n",
       " \"👈 watch by clicking here you can see People's are entertaining\",\n",
       " \"*JACK LITERALLY  JUST COMMENTED ON MY LAST VIDEO* I'm crying right now 😭😭😭😢😢😢\",\n",
       " 'Wuahaha it comes with 2 colors you cant and afford it 😂',\n",
       " \"man i wants this phone so bad but i can't afford it 😂😂\",\n",
       " 'Ohohoho he said it *laughing like a walrus* 😂',\n",
       " 'It has 2 colors u cant afford it 😂😂😂',\n",
       " '😂😂😂😂😂😂😂😂😂😂😂😂😂😂😂😂😂😂😂😂😂😂😂😂😂😂😂😂😂😂😂😂😂😂😂😂😂😂😂😂😂😂😂😂😂😂😂😂😂😂😂😂😂😂😂😂😂😂😂😂😂😂😂😂',\n",
       " 'FILM TUBE new Channel 💋💋❥❥❥👫💘😻💋💋',\n",
       " '💖💖💖💖💖💖💖💖💖💖💖💖💖💖',\n",
       " '🌟BEHIND THE SCENE🌟😮😮😮😮😮😮😮😮😮https://youtu.be/1Xtkkb8Hfw8',\n",
       " \"👈 watch by clicking here you can see People's are entertaining\",\n",
       " \"Can't believe my video 10 Kittens 1st Day Outside has over 2 million views now! \\\\nGo check it out and hit that subscribe button!  xoxo Sarina 😊 \\\\n\\\\nhttps://youtu.be/DcJk32AJckg\",\n",
       " 'Insert the room quote here 👇🏻',\n",
       " 'I LOVE THIS MOVIE SO MUCH 😳😳 ❤️',\n",
       " \"👈 watch by clicking on icon you can see People's are entertaining\"]"
      ]
     },
     "execution_count": 15,
     "metadata": {},
     "output_type": "execute_result"
    }
   ],
   "source": [
    "emoji_comments"
   ]
  },
  {
   "cell_type": "code",
   "execution_count": 31,
   "metadata": {
    "collapsed": false,
    "deletable": true,
    "editable": true
   },
   "outputs": [],
   "source": [
    "def extract_emoji_target():\n",
    "    inputs = [] \n",
    "    targets = []\n",
    "    for comment in emoji_comments:\n",
    "        x = []\n",
    "        y = []\n",
    "        for c in comment:\n",
    "            if c in emojis:\n",
    "                y.append(c)\n",
    "            else:\n",
    "                x.append(c)\n",
    "        inputs.append(''.join(x))\n",
    "        targets.append(''.join(set(y)))\n",
    "    return inputs, targets\n",
    "\n",
    "inputs, labels = extract_emoji_target()"
   ]
  },
  {
   "cell_type": "code",
   "execution_count": 35,
   "metadata": {
    "collapsed": false
   },
   "outputs": [
    {
     "data": {
      "text/plain": [
       "[(\"Logan Paul it's yo big day \", '️‼'),\n",
       " ('trending ', '😉'),\n",
       " ('The end though ', '🏻😭❤️👍'),\n",
       " ('I love Logan and Jake so much and thay are so amazing and I look up to them so much ',\n",
       "  '💙💋😍👍'),\n",
       " (\" watch by clicking here you can see people's are entertaining\", '👈'),\n",
       " ('Evan is being a douch Logans getting pissed, Logan should have went to smash his game system then evan would have cried  & Evans not gonna be able to take care of a pitbull tell his ass no, its gonna kill kong !!!',\n",
       "  '😂'),\n",
       " (\"When I saw this vid at first I was like naaahhhhh to tired but I looked at it again and saw the title and I was like HLLLLLLZZZZ YEEEAAAHHHH and as a anniversary present Logan Paul I'm gonna b u for Halloween to show how much u hav changed ma life and I'm not even joking about it \",\n",
       "  '😂🔥'),\n",
       " ('The girl with the dog was kylie Jenner ', '😂'),\n",
       " ('Attack of titan squad were u at', '😂❤️👻'),\n",
       " ('Congrats Logan love u so much someday I would love to meet u #1 fan of the logang ',\n",
       "  '❤️'),\n",
       " ('Me and my friends subscribe AAAAAAAAAAAA you got the Diamond Play button ',\n",
       "  '💎😆😁'),\n",
       " (' I love Evan so much!!!', '😂😭'),\n",
       " (\"I forgot that pewdiepie's fandom is a majority white people .\\\\n IF  YOU'RE  WHITE  DONT  TELL  POC  HOW  THEY  SHOULD  FEEL . Our ancestors paid for that word with their own blood, so poc today can use it how ever we want. You cannot tell us how we should feel. Y'all are disgusting for backing up your problematic fave and I'm pretty sure he did this before. Pewdiepie is canceled.\",\n",
       "  '👏😒'),\n",
       " (\"What the hell is wrong with everyone who's talking badly about him he said the word by accident it's ok pewdiepie you're super cool we all love you the people who are here and supporting you\",\n",
       "  '❤😊️'),\n",
       " (\" watch by clicking here people's are entertaining\", '👈'),\n",
       " (\"Saying Nigga isn't even bad it's only bad if you say it in a hateful way to black people ALL THE CRY BABIES and immature people stop going at him I guarantee youse you wouldn't say it to idubbz or others but because it's pewdiepie you think you have the right to go full force at him Yet I can see were people are coming from because pewdiepie did start the biggest ad crisis on any platform ever he has to much pressure on  him that's my speech down  btw I do like idubbz it was just an example\",\n",
       "  '😂'),\n",
       " (\"It's okay man\", '👌'),\n",
       " ('how will girls unlock their iphone X after taking off their makeup?', '🤔'),\n",
       " (\" watch by clicking on icon people's are entertaining\", '👈'),\n",
       " ('techrax is gonna be so happy ', '😂😁'),\n",
       " (\"just wait ... I'll sell my kidney n bay it .\", '😂💔'),\n",
       " ('It looks like glass iPhone,,, that effect is not for me,,,  death', '🍎👎'),\n",
       " ('Im gonna buy it just because im gonna get better snap chat filters smh ',\n",
       "  '😤'),\n",
       " ('wow tf copy samsung much ', '😂'),\n",
       " ('THIS IS SO TRUE OMG ', '😂'),\n",
       " (\" watch by clicking here you can see People's are entertaining\", '👈'),\n",
       " (\"*JACK LITERALLY  JUST COMMENTED ON MY LAST VIDEO* I'm crying right now \",\n",
       "  '😭😢'),\n",
       " ('Wuahaha it comes with 2 colors you cant and afford it ', '😂'),\n",
       " (\"man i wants this phone so bad but i can't afford it \", '😂'),\n",
       " ('Ohohoho he said it *laughing like a walrus* ', '😂'),\n",
       " ('It has 2 colors u cant afford it ', '😂'),\n",
       " ('', '😂'),\n",
       " ('FILM TUBE new Channel ❥❥❥', '👫💘😻💋'),\n",
       " ('', '💖'),\n",
       " ('BEHIND THE SCENEhttps://youtu.be/1Xtkkb8Hfw8', '😮🌟'),\n",
       " (\" watch by clicking here you can see People's are entertaining\", '👈'),\n",
       " (\"Can't believe my video 10 Kittens 1st Day Outside has over 2 million views now! \\\\nGo check it out and hit that subscribe button!  xoxo Sarina  \\\\n\\\\nhttps://youtu.be/DcJk32AJckg\",\n",
       "  '😊'),\n",
       " ('Insert the room quote here ', '🏻👇'),\n",
       " ('I LOVE THIS MOVIE SO MUCH  ', '❤😳️'),\n",
       " (\" watch by clicking on icon you can see People's are entertaining\", '👈')]"
      ]
     },
     "execution_count": 35,
     "metadata": {},
     "output_type": "execute_result"
    }
   ],
   "source": [
    "list(zip(inputs, labels))"
   ]
  },
  {
   "cell_type": "code",
   "execution_count": null,
   "metadata": {
    "collapsed": true
   },
   "outputs": [],
   "source": []
  }
 ],
 "metadata": {
  "kernelspec": {
   "display_name": "Python 3",
   "language": "python",
   "name": "python3"
  },
  "language_info": {
   "codemirror_mode": {
    "name": "ipython",
    "version": 3
   },
   "file_extension": ".py",
   "mimetype": "text/x-python",
   "name": "python",
   "nbconvert_exporter": "python",
   "pygments_lexer": "ipython3",
   "version": "3.5.2"
  }
 },
 "nbformat": 4,
 "nbformat_minor": 2
}
